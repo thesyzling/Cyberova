{
  "nbformat": 4,
  "nbformat_minor": 0,
  "metadata": {
    "colab": {
      "provenance": []
    },
    "kernelspec": {
      "name": "python3",
      "display_name": "Python 3"
    },
    "language_info": {
      "name": "python"
    }
  },
  "cells": [
    {
      "cell_type": "code",
      "execution_count": 4,
      "metadata": {
        "colab": {
          "base_uri": "https://localhost:8080/",
          "height": 477
        },
        "id": "PONeung_6PmG",
        "outputId": "a6ee3016-69f0-42da-b3bd-16320f962a9c"
      },
      "outputs": [
        {
          "output_type": "stream",
          "name": "stdout",
          "text": [
            "XOX oyununa hoş geldiniz..\n",
            "   |   |  \n",
            "---------\n",
            "   |   |  \n",
            "---------\n",
            "   |   |  \n",
            "1 ile 9 arasında bir sayı giriniz:4\n",
            "--------------------------------\n"
          ]
        },
        {
          "output_type": "error",
          "ename": "TypeError",
          "evalue": "kazanan() takes 1 positional argument but 2 were given",
          "traceback": [
            "\u001b[0;31m---------------------------------------------------------------------------\u001b[0m",
            "\u001b[0;31mTypeError\u001b[0m                                 Traceback (most recent call last)",
            "\u001b[0;32m<ipython-input-4-e0cfec212992>\u001b[0m in \u001b[0;36m<cell line: 95>\u001b[0;34m()\u001b[0m\n\u001b[1;32m     93\u001b[0m          \u001b[0mprint\u001b[0m\u001b[0;34m(\u001b[0m\u001b[0;34m\"-----------------------------------\"\u001b[0m\u001b[0;34m)\u001b[0m\u001b[0;34m\u001b[0m\u001b[0;34m\u001b[0m\u001b[0m\n\u001b[1;32m     94\u001b[0m \u001b[0;34m\u001b[0m\u001b[0m\n\u001b[0;32m---> 95\u001b[0;31m \u001b[0mOyun\u001b[0m\u001b[0;34m(\u001b[0m\u001b[0;34m)\u001b[0m\u001b[0;34m\u001b[0m\u001b[0;34m\u001b[0m\u001b[0m\n\u001b[0m\u001b[1;32m     96\u001b[0m \u001b[0;34m\u001b[0m\u001b[0m\n",
            "\u001b[0;32m<ipython-input-4-e0cfec212992>\u001b[0m in \u001b[0;36mOyun\u001b[0;34m()\u001b[0m\n\u001b[1;32m     84\u001b[0m          \u001b[0mprint\u001b[0m\u001b[0;34m(\u001b[0m\u001b[0;34m\"--------------------------------\"\u001b[0m\u001b[0;34m)\u001b[0m\u001b[0;34m\u001b[0m\u001b[0;34m\u001b[0m\u001b[0m\n\u001b[1;32m     85\u001b[0m \u001b[0;34m\u001b[0m\u001b[0m\n\u001b[0;32m---> 86\u001b[0;31m          \u001b[0mbilgisayar_hareket\u001b[0m \u001b[0;34m=\u001b[0m \u001b[0mbilgisayarHareket\u001b[0m\u001b[0;34m(\u001b[0m\u001b[0;34m)\u001b[0m\u001b[0;34m\u001b[0m\u001b[0;34m\u001b[0m\u001b[0m\n\u001b[0m\u001b[1;32m     87\u001b[0m          \u001b[0mharfkoy\u001b[0m\u001b[0;34m(\u001b[0m\u001b[0;36m0\u001b[0m\u001b[0;34m,\u001b[0m \u001b[0mbilgisayar_hareket\u001b[0m\u001b[0;34m)\u001b[0m\u001b[0;34m\u001b[0m\u001b[0;34m\u001b[0m\u001b[0m\n\u001b[1;32m     88\u001b[0m          \u001b[0;32mif\u001b[0m \u001b[0mkazanan\u001b[0m\u001b[0;34m(\u001b[0m\u001b[0moyunTahtası\u001b[0m\u001b[0;34m,\u001b[0m\u001b[0;36m0\u001b[0m\u001b[0;34m)\u001b[0m\u001b[0;34m:\u001b[0m\u001b[0;34m\u001b[0m\u001b[0;34m\u001b[0m\u001b[0m\n",
            "\u001b[0;32m<ipython-input-4-e0cfec212992>\u001b[0m in \u001b[0;36mbilgisayarHareket\u001b[0;34m()\u001b[0m\n\u001b[1;32m     47\u001b[0m             \u001b[0mkopya_Tahta\u001b[0m\u001b[0;34m=\u001b[0m\u001b[0moyunTahtası\u001b[0m\u001b[0;34m[\u001b[0m\u001b[0;34m:\u001b[0m\u001b[0;34m]\u001b[0m\u001b[0;34m\u001b[0m\u001b[0;34m\u001b[0m\u001b[0m\n\u001b[1;32m     48\u001b[0m             \u001b[0mkopya_Tahta\u001b[0m\u001b[0;34m[\u001b[0m\u001b[0mi\u001b[0m\u001b[0;34m]\u001b[0m\u001b[0;34m=\u001b[0m\u001b[0mharf\u001b[0m\u001b[0;34m\u001b[0m\u001b[0;34m\u001b[0m\u001b[0m\n\u001b[0;32m---> 49\u001b[0;31m             \u001b[0;32mif\u001b[0m \u001b[0mkazanan\u001b[0m\u001b[0;34m(\u001b[0m\u001b[0mkopya_Tahta\u001b[0m\u001b[0;34m,\u001b[0m\u001b[0mharf\u001b[0m\u001b[0;34m)\u001b[0m\u001b[0;34m:\u001b[0m\u001b[0;34m\u001b[0m\u001b[0;34m\u001b[0m\u001b[0m\n\u001b[0m\u001b[1;32m     50\u001b[0m                  \u001b[0mhareket\u001b[0m \u001b[0;34m=\u001b[0m \u001b[0mi\u001b[0m\u001b[0;34m\u001b[0m\u001b[0;34m\u001b[0m\u001b[0m\n\u001b[1;32m     51\u001b[0m                  \u001b[0;32mreturn\u001b[0m \u001b[0mhareket\u001b[0m\u001b[0;34m\u001b[0m\u001b[0;34m\u001b[0m\u001b[0m\n",
            "\u001b[0;31mTypeError\u001b[0m: kazanan() takes 1 positional argument but 2 were given"
          ]
        }
      ],
      "source": [
        "oyunTahtası = [' ' for x in range(10)]\n",
        "\n",
        "def ekranaGöster():\n",
        "    print(' ' +oyunTahtası[1] + ' ' + '|' + ' ' +oyunTahtası[2] + ' ' + '|' + ' ' + oyunTahtası[3])\n",
        "    print(\"---------\")\n",
        "    print(' ' +oyunTahtası[4] + ' ' + '|' + ' ' +oyunTahtası[5] + ' ' + '|' + ' ' + oyunTahtası[6])\n",
        "    print(\"---------\")\n",
        "    print(' ' +oyunTahtası[7] + ' ' + '|' + ' ' +oyunTahtası[8] + ' ' + '|' + ' ' + oyunTahtası[9])\n",
        "\n",
        "def harfkoy(harf,konum):\n",
        "    oyunTahtası[konum] = harf\n",
        "\n",
        "def alanBosmu(konum):\n",
        "    return oyunTahtası[konum] == ' '\n",
        "\n",
        "def tahtadolu():\n",
        "    if oyunTahtası.count(' ')>1:\n",
        "        return False\n",
        "    else:\n",
        "        return True\n",
        "\n",
        "\n",
        "def kazanan(harf):\n",
        "    return (oyunTahtası[1] ==harf and oyunTahtası[2]== harf and oyunTahtası[3]== harf) or (oyunTahtası[4] ==harf and oyunTahtası[5]== harf and oyunTahtası[6]==harf) or (oyunTahtası[7] ==harf and oyunTahtası[8]== harf and oyunTahtası[9]== harf) or (oyunTahtası[1] ==harf and oyunTahtası[4]== harf and oyunTahtası[7]== harf) or (oyunTahtası[2] ==harf and oyunTahtası[5]== harf and oyunTahtası[8]== harf) or (oyunTahtası[3] ==harf and oyunTahtası[6]== harf and oyunTahtası[9]== harf) or (oyunTahtası[1] ==harf and oyunTahtası[5]== harf and oyunTahtası[9]== harf) or (oyunTahtası[3] ==harf and oyunTahtası[5]== harf and oyunTahtası[7]== harf)\n",
        "\n",
        "def oyuncuHareketi():\n",
        "    konum = int(input(\"1 ile 9 arasında bir sayı giriniz:\"))\n",
        "    if alanBosmu(konum):\n",
        "        harfkoy(\"X\",konum)\n",
        "        if kazanan('X'):\n",
        "            ekranaGöster()\n",
        "            print(\"Tebrikler kazandınız.\")\n",
        "            exit()\n",
        "    else:\n",
        "        print(\"Girdiğiniz konum dolu . Lütfen tekrar seçiniz.\")\n",
        "        oyuncuHareketi()\n",
        "\n",
        "\n",
        "def bilgisayarHareket():\n",
        "    müsait_konumlar=[konum for konum,harf in enumerate(oyunTahtası) if harf == ' ' and konum != 0]\n",
        "\n",
        "    hareket = 0\n",
        "\n",
        "\n",
        "    for harf in [0,'X']:\n",
        "        for i in müsait_konumlar:\n",
        "            kopya_Tahta=oyunTahtası[:]\n",
        "            kopya_Tahta[i]=harf\n",
        "            if kazanan(kopya_Tahta,harf):\n",
        "                 hareket = i\n",
        "                 return hareket\n",
        "\n",
        "    köşeler = []\n",
        "    for i in müsait_konumlar:\n",
        "        if i in [1,3,7,9]:\n",
        "            köşeler.append(i)\n",
        "    if len(köşeler) > 0 :\n",
        "        hareket = random.choice(köşeler)\n",
        "        return hareket\n",
        "\n",
        "    if 5 in müsait_konumlar:\n",
        "        hareket = 5\n",
        "        return hareket\n",
        "\n",
        "    içerisi = []\n",
        "    for i in müsait_konumlar:\n",
        "        if i in [2,4,6,8]:\n",
        "            içerisi.append(i)\n",
        "\n",
        "    if len(içerisi) > 0:\n",
        "        hareket = random.choice(içerisi)\n",
        "        return hareket\n",
        "\n",
        "def Oyun():\n",
        "    print(\"XOX oyununa hoş geldiniz..\")\n",
        "    ekranaGöster()\n",
        "\n",
        "    while not tahtadolu():\n",
        "\n",
        "         oyuncuHareketi()\n",
        "         if tahtadolu():\n",
        "             print(\"Oyun bitti kazanan yok!!!\")\n",
        "             exit()\n",
        "         print(\"--------------------------------\")\n",
        "\n",
        "         bilgisayar_hareket = bilgisayarHareket()\n",
        "         harfkoy(0, bilgisayar_hareket)\n",
        "         if kazanan(oyunTahtası,0):\n",
        "            ekranaGöster()\n",
        "            print(\"Bilgisayar kazandı tekrar deneyiniz\")\n",
        "            exit()\n",
        "\n",
        "         print(\"-----------------------------------\")\n",
        "\n",
        "Oyun()\n",
        "\n"
      ]
    },
    {
      "cell_type": "code",
      "source": [],
      "metadata": {
        "id": "Z1P7g9Aj6pL7"
      },
      "execution_count": null,
      "outputs": []
    },
    {
      "cell_type": "code",
      "source": [],
      "metadata": {
        "id": "8K0pK4XG-YFR"
      },
      "execution_count": null,
      "outputs": []
    }
  ]
}